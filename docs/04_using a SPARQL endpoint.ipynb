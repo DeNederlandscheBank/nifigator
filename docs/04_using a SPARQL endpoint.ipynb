{
 "cells": [
  {
   "cell_type": "markdown",
   "id": "552386c0",
   "metadata": {},
   "source": [
    "# Using a SPARQL endpoint"
   ]
  },
  {
   "cell_type": "markdown",
   "id": "be30cb41",
   "metadata": {},
   "source": [
    "You can use an existing SPARQL endpoint in the following way."
   ]
  },
  {
   "cell_type": "code",
   "execution_count": null,
   "id": "392e422c",
   "metadata": {},
   "outputs": [],
   "source": [
    "from rdflib.plugins.stores.sparqlstore import SPARQLUpdateStore\n",
    "from rdflib.graph import DATASET_DEFAULT_GRAPH_ID as default\n",
    "\n",
    "# Connect to triplestore.\n",
    "store = SPARQLUpdateStore()\n",
    "query_endpoint = 'http://localhost:3030/nifigator/sparql'\n",
    "update_endpoint = 'http://localhost:3030/nifigator/update'\n",
    "store.open((query_endpoint, update_endpoint))"
   ]
  },
  {
   "cell_type": "markdown",
   "id": "4f429265",
   "metadata": {},
   "source": [
    "Then open a NifGraph in the same way as a rdflib.Graph"
   ]
  },
  {
   "cell_type": "code",
   "execution_count": null,
   "id": "2587b7a1",
   "metadata": {},
   "outputs": [],
   "source": [
    "from nifigator import NifGraph\n",
    "\n",
    "# Open a graph in the open store and set identifier to default graph ID.\n",
    "graph = NifGraph(store=store, identifier=default)"
   ]
  },
  {
   "cell_type": "markdown",
   "id": "c8aae167",
   "metadata": {},
   "source": [
    "We can then check the number of triples in the store"
   ]
  },
  {
   "cell_type": "code",
   "execution_count": null,
   "id": "59a53a91",
   "metadata": {},
   "outputs": [],
   "source": [
    "# count the number of triples in the store\n",
    "print(\"Number of triples: \"+str(len(graph)))"
   ]
  },
  {
   "cell_type": "markdown",
   "id": "0fc341b2",
   "metadata": {},
   "source": [
    "```console\n",
    "Number of triples: 1081392\n",
    "``` "
   ]
  },
  {
   "cell_type": "markdown",
   "id": "fb849111",
   "metadata": {},
   "source": [
    "To check the contexts in the graph you can use the catalog property. This property return a Pandas DataFrame with the context uris (in the index) with collection uri and the metadata (from DC and DCTERMS) available."
   ]
  },
  {
   "cell_type": "code",
   "execution_count": null,
   "id": "214efe61",
   "metadata": {},
   "outputs": [],
   "source": [
    "# get the catalog with all contexts within the graph\n",
    "catalog = graph.catalog\n",
    "catalog"
   ]
  },
  {
   "cell_type": "markdown",
   "id": "b3016bbd",
   "metadata": {},
   "source": [
    "```console\n",
    "\n",
    "```"
   ]
  },
  {
   "cell_type": "code",
   "execution_count": null,
   "id": "42080c5e",
   "metadata": {},
   "outputs": [],
   "source": [
    "from nifigator import NIF\n",
    "\n",
    "# get the context uri and the collection uri of the first row in the catalog\n",
    "context_uri = catalog.index[0]\n",
    "collection_uri = catalog.loc[context_uri, NIF.ContextCollection]\n",
    "\n",
    "# extract the collection with one context from the graph\n",
    "collection = graph.extract_collection(collection_uri=collection_uri, \n",
    "                                      context_uris=[context_uri])"
   ]
  },
  {
   "cell_type": "code",
   "execution_count": null,
   "id": "c7c35abe",
   "metadata": {},
   "outputs": [],
   "source": [
    "collection"
   ]
  },
  {
   "cell_type": "markdown",
   "id": "892b5e58",
   "metadata": {},
   "source": [
    "```console\n",
    "(nif:ContextCollection) uri = https://dnb.nl/rdf-data/\n",
    "  conformsTo : http://persistence.uni-leipzig.org/nlp2rdf/ontologies/nif-core/2.1\n",
    "  hasContext : https://dnb.nl/rdf-data/nif-5282967702ae37d486ad338b9771ca8f\n",
    "```"
   ]
  },
  {
   "cell_type": "code",
   "execution_count": null,
   "id": "ab72dcdc",
   "metadata": {},
   "outputs": [],
   "source": []
  }
 ],
 "metadata": {
  "jupytext": {
   "formats": "ipynb,md"
  },
  "kernelspec": {
   "display_name": "Python 3 (ipykernel)",
   "language": "python",
   "name": "python3"
  },
  "language_info": {
   "codemirror_mode": {
    "name": "ipython",
    "version": 3
   },
   "file_extension": ".py",
   "mimetype": "text/x-python",
   "name": "python",
   "nbconvert_exporter": "python",
   "pygments_lexer": "ipython3",
   "version": "3.10.10"
  }
 },
 "nbformat": 4,
 "nbformat_minor": 5
}
