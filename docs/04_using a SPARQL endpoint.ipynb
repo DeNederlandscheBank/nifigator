{
 "cells": [
  {
   "cell_type": "markdown",
   "id": "552386c0",
   "metadata": {},
   "source": [
    "# Using a SPARQL endpoint"
   ]
  },
  {
   "cell_type": "code",
   "execution_count": 1,
   "id": "392e422c",
   "metadata": {},
   "outputs": [],
   "source": [
    "from rdflib.plugins.stores.sparqlstore import SPARQLUpdateStore\n",
    "from rdflib.graph import DATASET_DEFAULT_GRAPH_ID as default\n",
    "\n",
    "# Connect to triplestore.\n",
    "store = SPARQLUpdateStore()\n",
    "query_endpoint = 'http://localhost:3030/nifigator/sparql'\n",
    "update_endpoint = 'http://localhost:3030/nifigator/update'\n",
    "store.open((query_endpoint, update_endpoint))"
   ]
  },
  {
   "cell_type": "markdown",
   "id": "4f429265",
   "metadata": {},
   "source": [
    "Then open a NifGraph in the same way as a rdflib.Graph"
   ]
  },
  {
   "cell_type": "code",
   "execution_count": 2,
   "id": "2587b7a1",
   "metadata": {},
   "outputs": [],
   "source": [
    "from nifigator import NifGraph\n",
    "\n",
    "# Open a graph in the open store and set identifier to default graph ID.\n",
    "graph = NifGraph(store=store, identifier=default)"
   ]
  },
  {
   "cell_type": "markdown",
   "id": "c8aae167",
   "metadata": {},
   "source": [
    "We can then check the number of triples in the store"
   ]
  },
  {
   "cell_type": "code",
   "execution_count": 3,
   "id": "59a53a91",
   "metadata": {},
   "outputs": [
    {
     "name": "stdout",
     "output_type": "stream",
     "text": [
      "Number of triples: 1081392\n"
     ]
    }
   ],
   "source": [
    "# count the number of triples in the store\n",
    "print(\"Number of triples: \"+str(len(graph)))"
   ]
  },
  {
   "cell_type": "markdown",
   "id": "fb849111",
   "metadata": {},
   "source": [
    "To check the contexts in the graph you can use the catalog property. This property return a Pandas DataFrame with the context uris (in the index) with collection uri and the metadata (from DC and DCTERMS) available."
   ]
  },
  {
   "cell_type": "code",
   "execution_count": 10,
   "id": "214efe61",
   "metadata": {},
   "outputs": [
    {
     "data": {
      "text/html": [
       "<div>\n",
       "<style scoped>\n",
       "    .dataframe tbody tr th:only-of-type {\n",
       "        vertical-align: middle;\n",
       "    }\n",
       "\n",
       "    .dataframe tbody tr th {\n",
       "        vertical-align: top;\n",
       "    }\n",
       "\n",
       "    .dataframe thead th {\n",
       "        text-align: right;\n",
       "    }\n",
       "</style>\n",
       "<table border=\"1\" class=\"dataframe\">\n",
       "  <thead>\n",
       "    <tr style=\"text-align: right;\">\n",
       "      <th></th>\n",
       "      <th>http://persistence.uni-leipzig.org/nlp2rdf/ontologies/nif-core#ContextCollection</th>\n",
       "      <th>http://purl.org/dc/terms/conformsTo</th>\n",
       "    </tr>\n",
       "  </thead>\n",
       "  <tbody>\n",
       "    <tr>\n",
       "      <th>https://dnb.nl/rdf-data/nif-5282967702ae37d486ad338b9771ca8f</th>\n",
       "      <td>https://dnb.nl/rdf-data/</td>\n",
       "      <td>http://persistence.uni-leipzig.org/nlp2rdf/ont...</td>\n",
       "    </tr>\n",
       "  </tbody>\n",
       "</table>\n",
       "</div>"
      ],
      "text/plain": [
       "                                                   http://persistence.uni-leipzig.org/nlp2rdf/ontologies/nif-core#ContextCollection  \\\n",
       "https://dnb.nl/rdf-data/nif-5282967702ae37d486a...                           https://dnb.nl/rdf-data/                                 \n",
       "\n",
       "                                                                  http://purl.org/dc/terms/conformsTo  \n",
       "https://dnb.nl/rdf-data/nif-5282967702ae37d486a...  http://persistence.uni-leipzig.org/nlp2rdf/ont...  "
      ]
     },
     "execution_count": 10,
     "metadata": {},
     "output_type": "execute_result"
    }
   ],
   "source": [
    "# get the catalog with all contexts within the graph\n",
    "catalog = graph.catalog\n",
    "catalog"
   ]
  },
  {
   "cell_type": "code",
   "execution_count": 11,
   "id": "42080c5e",
   "metadata": {},
   "outputs": [],
   "source": [
    "from nifigator import NIF\n",
    "\n",
    "# get the context uri and the collection uri of the first row in the catalog\n",
    "context_uri = catalog.index[0]\n",
    "collection_uri = catalog.loc[context_uri, NIF.ContextCollection]\n",
    "\n",
    "# extract the collection with one context from the graph\n",
    "collection = graph.collection(collection_uri=collection_uri, \n",
    "                              context_uris=[context_uri])"
   ]
  },
  {
   "cell_type": "code",
   "execution_count": 12,
   "id": "c7c35abe",
   "metadata": {},
   "outputs": [
    {
     "data": {
      "text/plain": [
       "(nif:ContextCollection) uri = https://dnb.nl/rdf-data/\n",
       "  conformsTo : http://persistence.uni-leipzig.org/nlp2rdf/ontologies/nif-core/2.1\n",
       "  hasContext : https://dnb.nl/rdf-data/nif-5282967702ae37d486ad338b9771ca8f"
      ]
     },
     "execution_count": 12,
     "metadata": {},
     "output_type": "execute_result"
    }
   ],
   "source": [
    "collection"
   ]
  },
  {
   "cell_type": "code",
   "execution_count": null,
   "id": "2f8ccdc5",
   "metadata": {},
   "outputs": [],
   "source": [
    "import datetime\n",
    "import cProfile\n",
    "\n",
    "t1 = datetime.datetime.now()\n",
    "collection = graph.collection\n",
    "# cProfile.run('collection = graph.collection')\n",
    "t2 = datetime.datetime.now()\n",
    "print(t2-t1)"
   ]
  },
  {
   "cell_type": "code",
   "execution_count": null,
   "id": "2e99781c",
   "metadata": {
    "scrolled": true
   },
   "outputs": [],
   "source": [
    "from rdflib.term import URIRef\n",
    "uri = URIRef(\"https://dnb.nl/rdf-data/nif-5282967702ae37d486ad338b9771ca8f\")\n",
    "q = \"\"\"\n",
    "SELECT ?s ?p ?o\n",
    "WHERE {\n",
    "    SERVICE <\"\"\"+graph.store.query_endpoint+\"\"\">\n",
    "    {\n",
    "        ?s nif:referenceContext \"\"\"+uri.n3(graph.namespace_manager)+\"\"\" .\n",
    "        ?s ?p ?o .\n",
    "    }\n",
    "}\"\"\"\n",
    "\n",
    "results = graph.query(q)"
   ]
  },
  {
   "cell_type": "code",
   "execution_count": null,
   "id": "3f72dfde",
   "metadata": {},
   "outputs": [],
   "source": [
    "l = list(results)"
   ]
  },
  {
   "cell_type": "code",
   "execution_count": null,
   "id": "c6f1ac39",
   "metadata": {},
   "outputs": [],
   "source": [
    "len(l)"
   ]
  },
  {
   "cell_type": "code",
   "execution_count": null,
   "id": "446fb7cf",
   "metadata": {},
   "outputs": [],
   "source": []
  }
 ],
 "metadata": {
  "jupytext": {
   "formats": "ipynb,md"
  },
  "kernelspec": {
   "display_name": "Python 3 (ipykernel)",
   "language": "python",
   "name": "python3"
  },
  "language_info": {
   "codemirror_mode": {
    "name": "ipython",
    "version": 3
   },
   "file_extension": ".py",
   "mimetype": "text/x-python",
   "name": "python",
   "nbconvert_exporter": "python",
   "pygments_lexer": "ipython3",
   "version": "3.10.10"
  }
 },
 "nbformat": 4,
 "nbformat_minor": 5
}
